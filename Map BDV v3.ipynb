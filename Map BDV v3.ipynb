{
 "cells": [
  {
   "cell_type": "code",
   "execution_count": null,
   "id": "93af1f9a",
   "metadata": {
    "ExecuteTime": {
     "end_time": "2022-06-21T12:51:15.776813Z",
     "start_time": "2022-06-21T12:51:15.774999Z"
    }
   },
   "outputs": [],
   "source": [
    "import geopandas as gpd\n",
    "import pandas as pd \n",
    "import geoplot\n",
    "import geoplot.crs as gcrs"
   ]
  },
  {
   "cell_type": "code",
   "execution_count": null,
   "id": "8626af26",
   "metadata": {
    "ExecuteTime": {
     "end_time": "2022-06-21T12:51:20.674013Z",
     "start_time": "2022-06-21T12:51:16.346133Z"
    }
   },
   "outputs": [],
   "source": [
    "cadastre = gpd.read_file(\"cadastre-75-parcelles.json\")\n",
    "BDV_Map = gpd.read_file(\"secteurs-des-bureaux-de-vote.geojson\")"
   ]
  },
  {
   "cell_type": "markdown",
   "id": "e7b474c8",
   "metadata": {},
   "source": [
    "## Carte Paris (Participation par zone de Bureau de vote)"
   ]
  },
  {
   "cell_type": "code",
   "execution_count": null,
   "id": "55e09c1c",
   "metadata": {
    "ExecuteTime": {
     "end_time": "2022-06-21T12:51:21.762876Z",
     "start_time": "2022-06-21T12:51:21.169656Z"
    }
   },
   "outputs": [],
   "source": [
    "ResultatsBDV = pd.read_csv(\"resultats-par-niveau-burvot-t1-france-entiere_v2.csv\")\n",
    "ResultatsBDV75 = ResultatsBDV[ResultatsBDV[\"Code du département\"]==75]"
   ]
  },
  {
   "cell_type": "code",
   "execution_count": null,
   "id": "4f2eff44",
   "metadata": {
    "ExecuteTime": {
     "end_time": "2022-06-21T12:51:22.275628Z",
     "start_time": "2022-06-21T12:51:22.267744Z"
    }
   },
   "outputs": [],
   "source": [
    "ResultatsBDV75light = ResultatsBDV75[['Code de la circonscription','Code du b.vote','% Vot/Ins']]\n",
    "ResultatsBDV75light['Code du b.vote']= ResultatsBDV75light['Code du b.vote'].apply(int)"
   ]
  },
  {
   "cell_type": "code",
   "execution_count": null,
   "id": "73161d1e",
   "metadata": {
    "ExecuteTime": {
     "end_time": "2022-06-21T12:51:22.765033Z",
     "start_time": "2022-06-21T12:51:22.759557Z"
    },
    "scrolled": false
   },
   "outputs": [],
   "source": [
    "BDV_Map[\"Code du b.vote\"]=BDV_Map[\"arrondissement\"]+BDV_Map[\"num_bv\"].str.zfill(2)\n",
    "BDV_Map[\"Code du b.vote\"]=BDV_Map[\"Code du b.vote\"].apply(int)\n",
    "BDV_Scores_map = pd.merge(BDV_Map,ResultatsBDV75light, how='left', left_on=[\"Code du b.vote\"], right_on=[\"Code du b.vote\"])"
   ]
  },
  {
   "cell_type": "code",
   "execution_count": null,
   "id": "48893882",
   "metadata": {
    "ExecuteTime": {
     "end_time": "2022-06-21T12:51:23.970245Z",
     "start_time": "2022-06-21T12:51:23.253843Z"
    }
   },
   "outputs": [],
   "source": [
    "BDV_Scores_map2 = cadastre.sjoin(BDV_Scores_map, how=\"inner\")\n",
    "BDV_Scores_map3 = BDV_Scores_map2[BDV_Scores_map2['Code de la circonscription']==4]"
   ]
  },
  {
   "cell_type": "code",
   "execution_count": null,
   "id": "3acb5b3b",
   "metadata": {
    "ExecuteTime": {
     "end_time": "2022-06-21T13:51:39.728134Z",
     "start_time": "2022-06-21T13:44:17.652665Z"
    },
    "scrolled": false
   },
   "outputs": [],
   "source": [
    "import matplotlib as plt\n",
    "ax = geoplot.webmap(BDV_Scores_map2,projection=gcrs.WebMercator(), linewidth=.3,zoom=16, figsize=(120, 120))\n",
    "geoplot.choropleth(BDV_Scores_map2,projection=gcrs.WebMercator(),hue='% Vot/Ins',linewidth=.3,\n",
    "                   legend_kwargs={'location': 'bottom','anchor' : (0.75, 2.4), 'shrink' : 0.3, 'aspect':30},legend=True, ax=ax)\n",
    "plt.pyplot.savefig('yolo.png')\n",
    "BDV_Scores_map2.head()"
   ]
  }
 ],
 "metadata": {
  "kernelspec": {
   "display_name": "Python 3 (ipykernel)",
   "language": "python",
   "name": "python3"
  },
  "language_info": {
   "codemirror_mode": {
    "name": "ipython",
    "version": 3
   },
   "file_extension": ".py",
   "mimetype": "text/x-python",
   "name": "python",
   "nbconvert_exporter": "python",
   "pygments_lexer": "ipython3",
   "version": "3.10.5"
  },
  "varInspector": {
   "cols": {
    "lenName": 16,
    "lenType": 16,
    "lenVar": 40
   },
   "kernels_config": {
    "python": {
     "delete_cmd_postfix": "",
     "delete_cmd_prefix": "del ",
     "library": "var_list.py",
     "varRefreshCmd": "print(var_dic_list())"
    },
    "r": {
     "delete_cmd_postfix": ") ",
     "delete_cmd_prefix": "rm(",
     "library": "var_list.r",
     "varRefreshCmd": "cat(var_dic_list()) "
    }
   },
   "types_to_exclude": [
    "module",
    "function",
    "builtin_function_or_method",
    "instance",
    "_Feature"
   ],
   "window_display": false
  }
 },
 "nbformat": 4,
 "nbformat_minor": 5
}
