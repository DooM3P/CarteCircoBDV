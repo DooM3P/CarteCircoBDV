{
 "cells": [
  {
   "attachments": {},
   "cell_type": "markdown",
   "id": "8cd68145",
   "metadata": {},
   "source": [
    "## Projet de carte interactive des resultats Législatives et Européenes"
   ]
  },
  {
   "cell_type": "markdown",
   "id": "b754032d",
   "metadata": {},
   "source": [
    "### Imports"
   ]
  },
  {
   "cell_type": "code",
   "execution_count": 1,
   "id": "346d8590",
   "metadata": {
    "ExecuteTime": {
     "end_time": "2022-06-20T17:06:13.778698Z",
     "start_time": "2022-06-20T17:06:13.776603Z"
    }
   },
   "outputs": [],
   "source": [
    "import geopandas as gpd\n",
    "import pandas as pd \n",
    "import folium\n",
    "from folium.features import GeoJson, GeoJsonTooltip, GeoJsonPopup\n",
    "from folium import plugins\n",
    "import sys\n",
    "sys.path.append('scripts')  # Add the scripts directory to the system path\n",
    "from import_function import import_txt_file, process_and_merge_scores, process_and_merge_scores_eur"
   ]
  },
  {
   "cell_type": "markdown",
   "id": "59eaa0af",
   "metadata": {},
   "source": [
    "### Legislatives 1<sup>er</sup> tour 2022"
   ]
  },
  {
   "cell_type": "markdown",
   "id": "8b4c71db",
   "metadata": {},
   "source": [
    "#### Import csv https://www.data.gouv.fr/fr/datasets/elections-legislatives-des-12-et-19-juin-2022-resultats-definitifs-du-premier-tour/"
   ]
  },
  {
   "cell_type": "code",
   "execution_count": 2,
   "id": "72ef125a",
   "metadata": {},
   "outputs": [],
   "source": [
    "file_path = \"Source/2022/resultats-par-niveau-burvot-t1-france-entiere.txt\"\n",
    "Scores_Leg_t1_2022 = import_txt_file(file_path, 'Legislatives_2022', 1)"
   ]
  },
  {
   "cell_type": "markdown",
   "id": "a361c5e1",
   "metadata": {},
   "source": [
    "#### Transposing columns"
   ]
  },
  {
   "cell_type": "code",
   "execution_count": 3,
   "id": "372be803",
   "metadata": {},
   "outputs": [],
   "source": [
    "Scores_Leg_t1_2022_2 = process_and_merge_scores(Scores_Leg_t1_2022)"
   ]
  },
  {
   "cell_type": "markdown",
   "id": "98fcfdb4",
   "metadata": {},
   "source": [
    "### Européennes 2024"
   ]
  },
  {
   "cell_type": "markdown",
   "id": "525ce179",
   "metadata": {},
   "source": [
    "#### Import csv https://www.data.gouv.fr/fr/datasets/resultats-des-elections-europeennes-du-9-juin-2024/"
   ]
  },
  {
   "cell_type": "code",
   "execution_count": null,
   "id": "8eb71b3f",
   "metadata": {},
   "outputs": [],
   "source": [
    "file_path = \"Source/2024/resultats-definitifs-par-bureau-de-vote.csv\"\n",
    "Scores_Eur_2024 = import_txt_file(file_path, 'Européennes_2024',1, encoding='utf-8')"
   ]
  },
  {
   "cell_type": "markdown",
   "id": "86c7dde6",
   "metadata": {},
   "source": [
    "#### Restriction Paris"
   ]
  },
  {
   "cell_type": "code",
   "execution_count": null,
   "id": "5413be64",
   "metadata": {},
   "outputs": [],
   "source": [
    "Scores_Eur_2024_75 = Scores_Eur_2024[(Scores_Eur_2024['Code département'] == '75')]"
   ]
  },
  {
   "cell_type": "markdown",
   "id": "f8ba0673",
   "metadata": {},
   "source": [
    "#### Transposing columns"
   ]
  },
  {
   "cell_type": "code",
   "execution_count": null,
   "id": "baa4a5ec",
   "metadata": {},
   "outputs": [],
   "source": [
    "Scores_Eur_2024_75_2 = process_and_merge_scores_eur(Scores_Eur_2024_75)"
   ]
  },
  {
   "cell_type": "code",
   "execution_count": null,
   "id": "f4f5bca9",
   "metadata": {},
   "outputs": [],
   "source": [
    "#Scores_Eur_2024_752 = Scores_Eur_2024_75_2[Scores_Eur_2024_75_2['Code BV'].str.startswith(('16', '17'))].assign(\n",
    "Scores_Eur_2024_752 = Scores_Eur_2024_75_2.assign(\n",
    "    **{'Code BV': lambda df: df['Code BV'].apply(\n",
    "        lambda x: f\"{int(str(x)[:2])}-{int(str(x)[2:])}\" if len(str(x)) == 4 else f\"{int(str(x)[:2])}-{int(str(x)[2:])}\"\n",
    "    )}\n",
    ").rename(columns={\"Code BV\": \"id_bv\"})"
   ]
  },
  {
   "cell_type": "markdown",
   "id": "d9019282",
   "metadata": {},
   "source": [
    "### Zoom Paris"
   ]
  },
  {
   "cell_type": "code",
   "execution_count": null,
   "id": "4a52e14c",
   "metadata": {},
   "outputs": [],
   "source": [
    "Leg_t1_2022_75 = Scores_Leg_t1_2022_2[\n",
    "    (Scores_Leg_t1_2022_2['Code du département'] == '75')\n",
    "    #& (Scores_Leg_t1_2022['Code de la circonscription'].isin([3, 4])\n",
    "].dropna(axis=1, how='all').assign(\n",
    "    **{'Code du b.vote': lambda df: df['Code du b.vote'].apply(\n",
    "        lambda x: f\"{int(str(x)[:2])}-{int(str(x)[2:])}\" if len(str(x)) == 4 else f\"{int(str(x)[:2])}-{int(str(x)[2:])}\"\n",
    "    )}\n",
    ").rename(columns={\"Code du b.vote\": \"id_bv\"})"
   ]
  },
  {
   "cell_type": "code",
   "execution_count": null,
   "id": "4ad4285d",
   "metadata": {},
   "outputs": [],
   "source": [
    "BDV_Map = gpd.read_file(\"Source/secteurs-des-bureaux-de-vote.geojson\")\n",
    "BDV = pd.read_csv(\"Source/ListeBDVParisv5.csv\")\n",
    "BDV4 = BDV.drop('Unnamed: 0', axis=1)\n",
    "BDV4 = BDV4.rename(columns={\"Num\": \"num_bv\", \"Arrondissement\": \"arrondissement\"})\n",
    "BDV4b = BDV4.drop_duplicates([\"arrondissement\",\"num_bv\",\"Circonscription\"])\n",
    "BDV4b = BDV4b.map(str)\n",
    "BDV_Map_4 = pd.merge(BDV_Map,BDV4b,how='left',left_on=['arrondissement',\"num_bv\"],right_on=['arrondissement',\"num_bv\"])"
   ]
  },
  {
   "cell_type": "code",
   "execution_count": null,
   "id": "9d33ec33",
   "metadata": {},
   "outputs": [],
   "source": [
    "BDV_Map_4[BDV_Map_4['arrondissement']=='4']"
   ]
  },
  {
   "cell_type": "code",
   "execution_count": null,
   "id": "ab9987f5",
   "metadata": {},
   "outputs": [],
   "source": [
    "BDV_Map_75=BDV_Map_4.dissolve(by='id_bv')[['geometry']]"
   ]
  },
  {
   "cell_type": "markdown",
   "id": "dfca2c15",
   "metadata": {},
   "source": [
    "### Euro 24"
   ]
  },
  {
   "cell_type": "code",
   "execution_count": null,
   "id": "4fea76fd",
   "metadata": {},
   "outputs": [],
   "source": [
    "Scores_Eur_2024_752temp = Scores_Eur_2024_752[Scores_Eur_2024_752['Nuance liste'] == 'LFI'][['id_bv', '% Voix/exprimés']].assign(\n",
    "    **{'% Voix/exprimés': lambda df: pd.to_numeric(df['% Voix/exprimés'].str.replace('%', '').str.replace(',', '.'), errors='coerce')}\n",
    ")\n",
    "BDV4_Scores_map = pd.merge(BDV_Map_75,Scores_Eur_2024_752temp,how='left',left_on=['id_bv'],right_on=['id_bv'])"
   ]
  },
  {
   "cell_type": "code",
   "execution_count": null,
   "id": "f14e6804",
   "metadata": {},
   "outputs": [],
   "source": [
    "BDV4_Scores_map.explore(\"% Voix/exprimés\", cmap=\"Reds\",fill_opacity=0.15)  "
   ]
  },
  {
   "cell_type": "code",
   "execution_count": null,
   "id": "a30f45df",
   "metadata": {},
   "outputs": [],
   "source": [
    "gdf = gpd.read_file('Source/2024/elections-europeennes-2024.geojson')"
   ]
  },
  {
   "cell_type": "code",
   "execution_count": null,
   "id": "aa24941d",
   "metadata": {},
   "outputs": [],
   "source": [
    "gdf['abst'] = 1 -(gdf['nb_votant'] / gdf['nb_inscr'])"
   ]
  },
  {
   "cell_type": "code",
   "execution_count": null,
   "id": "1949a8c2",
   "metadata": {},
   "outputs": [],
   "source": [
    "gdf.explore('abst', cmap=\"Reds\",fill_opacity=0.15,tooltip=['id_bv','abst'])  "
   ]
  },
  {
   "cell_type": "markdown",
   "id": "e85eacff",
   "metadata": {},
   "source": [
    "### Legis 22"
   ]
  },
  {
   "cell_type": "code",
   "execution_count": null,
   "id": "060a0fa8",
   "metadata": {},
   "outputs": [],
   "source": [
    "Leg_t1_2022_75temp=Leg_t1_2022_75[Leg_t1_2022_75['Nuance']=='NUP'][['id_bv',\"% Abs/Ins\"]]\n",
    "BDV4_Scores_map = pd.merge(BDV_Map_75,Leg_t1_2022_75temp,how='inner',left_on=['id_bv'],right_on=['id_bv'])"
   ]
  },
  {
   "cell_type": "code",
   "execution_count": null,
   "id": "30bd2550",
   "metadata": {},
   "outputs": [],
   "source": [
    "m=BDV4_Scores_map.explore(\"% Abs/Ins\", cmap=\"Blues\",fill_opacity=0.15)  "
   ]
  },
  {
   "cell_type": "code",
   "execution_count": null,
   "id": "4b1de660",
   "metadata": {},
   "outputs": [],
   "source": [
    "Leg_t1_2022_75temp=Leg_t1_2022_75[Leg_t1_2022_75['Nuance']=='NUP'][['id_bv','% Voix/Exp']]\n",
    "BDV4_Scores_map = pd.merge(BDV_Map_75,Leg_t1_2022_75temp,how='inner',left_on=['id_bv'],right_on=['id_bv'])"
   ]
  },
  {
   "cell_type": "code",
   "execution_count": null,
   "id": "cee341e3",
   "metadata": {},
   "outputs": [],
   "source": [
    "# First, ensure there are no non-numeric values in the column\n",
    "BDV4_Scores_map['% Voix/Exp'] = pd.to_numeric(BDV4_Scores_map['% Voix/Exp'], errors='coerce')\n",
    "\n",
    "# Now, convert the column to integer\n",
    "BDV4_Scores_map['% Voix/Exp'] = BDV4_Scores_map['% Voix/Exp'].astype('Int64')  # Using 'Int64' to allow for NaNs"
   ]
  },
  {
   "cell_type": "code",
   "execution_count": null,
   "id": "00190b72",
   "metadata": {},
   "outputs": [],
   "source": [
    "BDV4_Scores_map.explore(\n",
    "    m=m,\n",
    "    column='% Voix/Exp', # make choropleth based on \"BoroName\" column\n",
    "    tooltip=['% Voix/Exp',\"id_bv\"], # show \"BoroName\" value in tooltip (on hover)\n",
    "    popup=True, # show all values in popup (on click)\n",
    "    tiles=\"OpenStreetMap\", # use \"CartoDB positron\" tiles\n",
    "    cmap=\"Reds\", # use \"Set1\" matplotlib colormap\n",
    "    name=\"Score Natalie législatives 2022 (votes exprimés)\",\n",
    "    legend_kwds={'colorbar' : True, 'scale': True},\n",
    "    show=False# name of the layer in the map\n",
    "    #style_kwds=dict(color=\"black\") # use black outline\n",
    ")\n",
    "\n",
    "folium.LayerControl(collapsed=False).add_to(m)  # use folium to add layer control\n",
    "\n",
    "m.save('gerg.html')"
   ]
  }
 ],
 "metadata": {
  "kernelspec": {
   "display_name": "Python 3 (ipykernel)",
   "language": "python",
   "name": "python3"
  },
  "language_info": {
   "codemirror_mode": {
    "name": "ipython",
    "version": 3
   },
   "file_extension": ".py",
   "mimetype": "text/x-python",
   "name": "python",
   "nbconvert_exporter": "python",
   "pygments_lexer": "ipython3",
   "version": "3.12.4"
  },
  "varInspector": {
   "cols": {
    "lenName": 16,
    "lenType": 16,
    "lenVar": 40
   },
   "kernels_config": {
    "python": {
     "delete_cmd_postfix": "",
     "delete_cmd_prefix": "del ",
     "library": "var_list.py",
     "varRefreshCmd": "print(var_dic_list())"
    },
    "r": {
     "delete_cmd_postfix": ") ",
     "delete_cmd_prefix": "rm(",
     "library": "var_list.r",
     "varRefreshCmd": "cat(var_dic_list()) "
    }
   },
   "types_to_exclude": [
    "module",
    "function",
    "builtin_function_or_method",
    "instance",
    "_Feature"
   ],
   "window_display": false
  }
 },
 "nbformat": 4,
 "nbformat_minor": 5
}
