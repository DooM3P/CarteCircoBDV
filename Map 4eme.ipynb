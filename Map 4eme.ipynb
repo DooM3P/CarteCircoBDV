{
 "cells": [
  {
   "attachments": {},
   "cell_type": "markdown",
   "id": "8cd68145",
   "metadata": {},
   "source": [
    "## Projet de carte interactive des resultats de la 4ème circonscription"
   ]
  },
  {
   "cell_type": "code",
   "execution_count": null,
   "id": "346d8590",
   "metadata": {
    "ExecuteTime": {
     "end_time": "2022-06-20T17:06:13.778698Z",
     "start_time": "2022-06-20T17:06:13.776603Z"
    }
   },
   "outputs": [],
   "source": [
    "import geopandas as gpd\n",
    "import pandas as pd \n",
    "import folium\n",
    "import mapclassify"
   ]
  },
  {
   "cell_type": "code",
   "execution_count": null,
   "id": "c9419c39",
   "metadata": {
    "ExecuteTime": {
     "end_time": "2022-06-20T16:50:34.281673Z",
     "start_time": "2022-06-20T16:50:34.046185Z"
    }
   },
   "outputs": [],
   "source": [
    "Scores4eme = pd.read_csv(\"Source/Chiffres 1er tour Circo7504.csv\")\n",
    "BDV_Map = gpd.read_file(\"Source/secteurs-des-bureaux-de-vote.geojson\")\n",
    "BDV = pd.read_csv(\"Source/ListeBDVParisv5.csv\")"
   ]
  },
  {
   "cell_type": "code",
   "execution_count": null,
   "id": "78a95715",
   "metadata": {
    "ExecuteTime": {
     "end_time": "2022-06-20T16:50:34.624588Z",
     "start_time": "2022-06-20T16:50:34.526463Z"
    }
   },
   "outputs": [],
   "source": [
    "BDV4 = BDV[BDV[\"Circonscription\"]==4]\n",
    "BDV4 = BDV4.drop('Unnamed: 0', axis=1)\n",
    "BDV4 = BDV4.rename(columns={\"Num\": \"num_bv\", \"Arrondissement\": \"arrondissement\"})\n",
    "Scores4eme = Scores4eme.rename(columns={\"Numéro de BV\": \"num_bv\", \"Arrondissement \": \"arrondissement\"})\n",
    "Scores4eme2 = Scores4eme.iloc[:-3 , :]\n",
    "BDV4b = BDV4[[\"arrondissement\",\"num_bv\",\"Circonscription\"]].drop_duplicates()\n",
    "BDV4b = BDV4b.map(str)\n",
    "Scores4eme2['arrondissement'] = Scores4eme2['arrondissement'].apply(int)\n",
    "Scores4eme2['arrondissement'] = Scores4eme2['arrondissement'].apply(str)"
   ]
  },
  {
   "cell_type": "code",
   "execution_count": null,
   "id": "14b29009",
   "metadata": {
    "ExecuteTime": {
     "end_time": "2022-06-20T16:50:38.069391Z",
     "start_time": "2022-06-20T16:50:38.061110Z"
    }
   },
   "outputs": [],
   "source": [
    "BDV_Map_4 = pd.merge(BDV_Map,BDV4b,how='inner',left_on=['arrondissement',\"num_bv\"],right_on=['arrondissement',\"num_bv\"])\n",
    "BDV4_Scores_map = pd.merge(BDV_Map_4,Scores4eme2, how='left', left_on=['arrondissement',\"num_bv\"], right_on=['arrondissement',\"num_bv\"])"
   ]
  },
  {
   "cell_type": "code",
   "execution_count": null,
   "id": "f20d9738",
   "metadata": {
    "ExecuteTime": {
     "end_time": "2022-06-20T16:50:53.088777Z",
     "start_time": "2022-06-20T16:50:53.050507Z"
    }
   },
   "outputs": [],
   "source": [
    "BDV4_Scores_map.head()"
   ]
  },
  {
   "cell_type": "code",
   "execution_count": null,
   "id": "edfa0ccd",
   "metadata": {
    "ExecuteTime": {
     "end_time": "2022-06-20T17:31:12.952555Z",
     "start_time": "2022-06-20T17:31:12.687240Z"
    }
   },
   "outputs": [],
   "source": [
    "m = BDV4_Scores_map.explore(\n",
    "    column=\"Abstention legislatives 2022\", # make choropleth based on \"BoroName\" column\n",
    "    tooltip=[\"Abstention legislatives 2022\",\"id_bv\"], # show \"BoroName\" value in tooltip (on hover)\n",
    "    popup=True, # show all values in popup (on click)\n",
    "    tiles=\"OpenStreetMap\", # use \"CartoDB positron\" tiles\n",
    "    cmap=\"Reds\", # use \"Set1\" matplotlib colormap\n",
    "    name=\"Abstention legislatives 2022\",# name of the layer in the map\n",
    "    style_kwds=dict(color=\"red\",weight=1) # use black outline\n",
    "    )\n",
    "\n",
    "#scheme1 = mapclassify.BoxPlot(BDV4_Scores_map['Score Natalie législatives 2022 (votes exprimés)']) \n",
    "\n",
    "BDV4_Scores_map.explore(\n",
    "    m=m,\n",
    "    column=\"Score Natalie législatives 2022 (votes exprimés)\", # make choropleth based on \"BoroName\" column\n",
    "    tooltip=[\"Score Natalie législatives 2022 (votes exprimés)\",\"id_bv\"], # show \"BoroName\" value in tooltip (on hover)\n",
    "    popup=True, # show all values in popup (on click)\n",
    "    tiles=\"OpenStreetMap\", # use \"CartoDB positron\" tiles\n",
    "    cmap=\"Greens\", # use \"Set1\" matplotlib colormap\n",
    "    name=\"Score Natalie législatives 2022 (votes exprimés)\",\n",
    "    legend_kwds={'colorbar' : True, 'scale': False},\n",
    "    show=False# name of the layer in the map\n",
    "    #style_kwds=dict(color=\"black\") # use black outline\n",
    ")\n",
    "\n",
    "BDV4_Scores_map.explore(\n",
    "    m=m,\n",
    "    column=\"Score Mélenchon présidentielles 2022 (votes exprimés)\", # make choropleth based on \"BoroName\" column\n",
    "    tooltip=[\"Score Mélenchon présidentielles 2022 (votes exprimés)\",\"id_bv\"], # show \"BoroName\" value in tooltip (on hover)\n",
    "    popup=True, # show all values in popup (on click)\n",
    "    tiles=\"OpenStreetMap\", # use \"CartoDB positron\" tiles\n",
    "    cmap=\"Greens\", # use \"Set1\" matplotlib colormap\n",
    "    name=\"Score Mélenchon présidentielles 2022 (votes exprimés)\",\n",
    "    show=False# name of the layer in the map\n",
    "    #style_kwds=dict(color=\"black\") # use black outline\n",
    "    )\n",
    "\n",
    "BDV4_Scores_map.explore(\n",
    "    m=m,\n",
    "    column=\"Score Panosyan 2022\", # make choropleth based on \"BoroName\" column\n",
    "    tooltip=[\"Score Panosyan 2022\",\"id_bv\"], # show \"BoroName\" value in tooltip (on hover)\n",
    "    popup=True, # show all values in popup (on click)\n",
    "    tiles=\"OpenStreetMap\", # use \"CartoDB positron\" tiles\n",
    "    cmap=\"Oranges\", # use \"Set1\" matplotlib colormap\n",
    "    name=\"Score Panosyan 2022\",\n",
    "    show=False# name of the layer in the map\n",
    "    #style_kwds=dict(color=\"black\") # use black outline\n",
    "    )\n",
    "\n",
    "BDV4_Scores_map.explore(\n",
    "    m=m,\n",
    "    column=\"Score Kuster 2022\", # make choropleth based on \"BoroName\" column\n",
    "    tooltip=[\"Score Kuster 2022\",\"id_bv\"], # show \"BoroName\" value in tooltip (on hover)\n",
    "    popup=True, # show all values in popup (on click)\n",
    "    tiles=\"OpenStreetMap\", # use \"CartoDB positron\" tiles\n",
    "    cmap=\"Blues\", # use \"Set1\" matplotlib colormap\n",
    "    name=\"Score Kuster 2022\",\n",
    "    show=False# name of the layer in the map\n",
    "    #style_kwds=dict(color=\"black\") # use black outline\n",
    "    )\n",
    "\n",
    "folium.LayerControl(collapsed=False).add_to(m)  # use folium to add layer control\n",
    "\n",
    "m  # show map"
   ]
  }
 ],
 "metadata": {
  "kernelspec": {
   "display_name": "Python 3 (ipykernel)",
   "language": "python",
   "name": "python3"
  },
  "language_info": {
   "codemirror_mode": {
    "name": "ipython",
    "version": 3
   },
   "file_extension": ".py",
   "mimetype": "text/x-python",
   "name": "python",
   "nbconvert_exporter": "python",
   "pygments_lexer": "ipython3",
   "version": "3.12.3"
  },
  "varInspector": {
   "cols": {
    "lenName": 16,
    "lenType": 16,
    "lenVar": 40
   },
   "kernels_config": {
    "python": {
     "delete_cmd_postfix": "",
     "delete_cmd_prefix": "del ",
     "library": "var_list.py",
     "varRefreshCmd": "print(var_dic_list())"
    },
    "r": {
     "delete_cmd_postfix": ") ",
     "delete_cmd_prefix": "rm(",
     "library": "var_list.r",
     "varRefreshCmd": "cat(var_dic_list()) "
    }
   },
   "types_to_exclude": [
    "module",
    "function",
    "builtin_function_or_method",
    "instance",
    "_Feature"
   ],
   "window_display": false
  }
 },
 "nbformat": 4,
 "nbformat_minor": 5
}
