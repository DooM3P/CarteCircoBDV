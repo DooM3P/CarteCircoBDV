{
 "cells": [
  {
   "cell_type": "code",
   "execution_count": 1,
   "id": "fb4e6842",
   "metadata": {
    "ExecuteTime": {
     "end_time": "2022-05-31T18:48:13.370978Z",
     "start_time": "2022-05-31T18:48:12.957979Z"
    }
   },
   "outputs": [],
   "source": [
    "import requests\n",
    "from bs4 import BeautifulSoup\n",
    "import pandas as pd"
   ]
  },
  {
   "cell_type": "code",
   "execution_count": 2,
   "id": "765ead41",
   "metadata": {
    "ExecuteTime": {
     "end_time": "2022-05-31T18:48:14.199732Z",
     "start_time": "2022-05-31T18:48:14.194424Z"
    }
   },
   "outputs": [],
   "source": [
    "def listurl(url):\n",
    "    headers = {'User-Agent': 'Mozilla/5.0 (X11; Linux x86_64)'}\n",
    "    response = requests.request(\"GET\", url, headers=headers)\n",
    "    soup = BeautifulSoup(response.text, 'html.parser')\n",
    "    table = soup.find_all(\"a\", {\"class\": \"link-download\"})\n",
    "    listurl=[]\n",
    "    for i in table:\n",
    "        if \"AP\" not in i.get(\"href\"):\n",
    "            listurl.append(i.get(\"href\"))\n",
    "    return set(listurl)"
   ]
  }
 ],
 "metadata": {
  "kernelspec": {
   "display_name": "Python 3 (ipykernel)",
   "language": "python",
   "name": "python3"
  },
  "language_info": {
   "codemirror_mode": {
    "name": "ipython",
    "version": 3
   },
   "file_extension": ".py",
   "mimetype": "text/x-python",
   "name": "python",
   "nbconvert_exporter": "python",
   "pygments_lexer": "ipython3",
   "version": "3.9.12"
  },
  "varInspector": {
   "cols": {
    "lenName": 16,
    "lenType": 16,
    "lenVar": 40
   },
   "kernels_config": {
    "python": {
     "delete_cmd_postfix": "",
     "delete_cmd_prefix": "del ",
     "library": "var_list.py",
     "varRefreshCmd": "print(var_dic_list())"
    },
    "r": {
     "delete_cmd_postfix": ") ",
     "delete_cmd_prefix": "rm(",
     "library": "var_list.r",
     "varRefreshCmd": "cat(var_dic_list()) "
    }
   },
   "position": {
    "height": "555.85px",
    "left": "101px",
    "right": "20px",
    "top": "222px",
    "width": "800px"
   },
   "types_to_exclude": [
    "module",
    "function",
    "builtin_function_or_method",
    "instance",
    "_Feature"
   ],
   "window_display": false
  }
 },
 "nbformat": 4,
 "nbformat_minor": 5
}
