{
 "cells": [
  {
   "cell_type": "markdown",
   "id": "550179bf",
   "metadata": {},
   "source": [
    "# Tentative de carte des résulats par BDV dans toute la France"
   ]
  },
  {
   "cell_type": "code",
   "execution_count": null,
   "id": "d6c07300",
   "metadata": {
    "ExecuteTime": {
     "end_time": "2022-06-18T17:09:21.567715Z",
     "start_time": "2022-06-18T17:09:20.667294Z"
    }
   },
   "outputs": [],
   "source": [
    "import geopandas as gpd\n",
    "import pandas as pd \n",
    "import geoplot\n",
    "import geoplot.crs as gcrs"
   ]
  },
  {
   "cell_type": "code",
   "execution_count": null,
   "id": "8e9e4a68",
   "metadata": {
    "ExecuteTime": {
     "end_time": "2022-06-18T17:09:21.589010Z",
     "start_time": "2022-06-18T17:09:21.571998Z"
    }
   },
   "outputs": [],
   "source": [
    "ResultatsCirco = pd.read_csv(\"resultats-par-niveau-cirlg-t1-france-entiere_v2.csv\", encoding='iso-8859-1',delimiter=';') #source https://www.data.gouv.fr/fr/pages/donnees-des-elections/"
   ]
  },
  {
   "cell_type": "code",
   "execution_count": null,
   "id": "998a32d0",
   "metadata": {
    "ExecuteTime": {
     "end_time": "2022-06-18T17:09:22.888664Z",
     "start_time": "2022-06-18T17:09:22.658095Z"
    }
   },
   "outputs": [],
   "source": [
    "import json\n",
    "import fiona\n",
    "from shapely.geometry import shape \n",
    "#Read data\n",
    "collection = list(fiona.open(\"circonscriptions2010.geoJSON\",'r'))\n",
    "df1 = pd.DataFrame(collection)\n",
    "\n",
    "#Check Geometry\n",
    "def isvalid(geom):\n",
    "    try:\n",
    "        shape(geom)\n",
    "        return 1\n",
    "    except:\n",
    "        return 0\n",
    "    \n",
    "df1['isvalid'] = df1['geometry'].apply(lambda x: isvalid(x))\n",
    "df1 = df1[df1['isvalid'] == 1]\n",
    "collection = json.loads(df1.to_json(orient='records'))\n",
    "\n",
    "#Convert to geodataframe\n",
    "Circo_Map = gpd.GeoDataFrame.from_features(collection)"
   ]
  },
  {
   "cell_type": "code",
   "execution_count": null,
   "id": "7a6a12e0",
   "metadata": {
    "ExecuteTime": {
     "end_time": "2022-06-18T17:09:23.508079Z",
     "start_time": "2022-06-18T17:09:23.494037Z"
    }
   },
   "outputs": [],
   "source": [
    "from shapely.geometry import MultiPolygon\n",
    "Circo_Map2 = Circo_Map\n",
    "def multi(geom):\n",
    "    if geom.type=='GeometryCollection':\n",
    "        return MultiPolygon([x for x in geom.geoms])\n",
    "    else:\n",
    "        return geom\n",
    "    \n",
    "Circo_Map2['geometry'] = Circo_Map2['geometry'].apply(lambda x: multi(x))"
   ]
  },
  {
   "cell_type": "code",
   "execution_count": null,
   "id": "9679b302",
   "metadata": {
    "ExecuteTime": {
     "end_time": "2022-06-18T17:09:24.338402Z",
     "start_time": "2022-06-18T17:09:24.325702Z"
    }
   },
   "outputs": [],
   "source": [
    "ResultatsCirco2 = ResultatsCirco \n",
    "\n",
    "def tri(row): #Récupération des candidats NUPES\n",
    "    if row['Nuance.1']==\"NUP\":\n",
    "        return(row['% Voix/Exp.1'])\n",
    "    if row['Nuance.2']==\"NUP\":\n",
    "        return(row['% Voix/Exp.2'])\n",
    "    if row['Nuance.3']==\"NUP\":\n",
    "        return(row['% Voix/Exp.3'])\n",
    "    if row['Nuance.4']==\"NUP\":\n",
    "        return(row['% Voix/Exp.4'])\n",
    "    if row['Nuance.5']==\"NUP\":\n",
    "        return(row['% Voix/Exp.5'])\n",
    "    if row['Nuance.6']==\"NUP\":\n",
    "        return(row['% Voix/Exp.6'])\n",
    "    \n",
    "ResultatsCirco2['% Voix/Exp'] = ResultatsCirco2.apply(lambda row: tri(row), axis=1)\n",
    "ResultatsCirco2 =ResultatsCirco2[~ResultatsCirco2['Code du département'].str.contains('Z', na=False)]\n",
    "ResultatsCirco2 = ResultatsCirco2[['Code du département','Code de la circonscription', '% Voix/Exp','% Abs/Ins']] "
   ]
  },
  {
   "cell_type": "code",
   "execution_count": null,
   "id": "4a1f46ec",
   "metadata": {
    "ExecuteTime": {
     "end_time": "2022-06-18T17:09:25.460912Z",
     "start_time": "2022-06-18T17:09:25.441736Z"
    }
   },
   "outputs": [],
   "source": [
    "ResultatsCirco2['name']=ResultatsCirco2['Code du département'].apply(str).str.zfill(2)+ResultatsCirco2['Code de la circonscription'].apply(str).str.zfill(3)\n",
    "ResultatsCirco2=ResultatsCirco2.drop(['Code du département','Code de la circonscription'], axis=1)"
   ]
  },
  {
   "cell_type": "code",
   "execution_count": null,
   "id": "83979f71",
   "metadata": {
    "ExecuteTime": {
     "end_time": "2022-06-18T17:09:26.386901Z",
     "start_time": "2022-06-18T17:09:26.382762Z"
    }
   },
   "outputs": [],
   "source": [
    "ResultatsCirco_Geo = pd.merge(Circo_Map2,ResultatsCirco2,how='inner',on='name') #Carte par circonscription et non BDV"
   ]
  },
  {
   "cell_type": "code",
   "execution_count": null,
   "id": "e95c3463",
   "metadata": {
    "ExecuteTime": {
     "end_time": "2022-06-18T17:58:11.438214Z",
     "start_time": "2022-06-18T17:58:11.433622Z"
    }
   },
   "outputs": [],
   "source": [
    "ResultatsCirco_Geo[ResultatsCirco_Geo['% Abs/Ins'].isna()]"
   ]
  },
  {
   "cell_type": "code",
   "execution_count": null,
   "id": "10ed66f7",
   "metadata": {
    "ExecuteTime": {
     "end_time": "2022-06-18T17:57:03.639849Z",
     "start_time": "2022-06-18T17:56:47.751989Z"
    }
   },
   "outputs": [],
   "source": [
    "import matplotlib as plt\n",
    "ax = geoplot.webmap(ResultatsCirco_Geo,projection=gcrs.WebMercator(), linewidth=.3,zoom=7, figsize=(120, 120))\n",
    "geoplot.choropleth(ResultatsCirco_Geo,projection=gcrs.WebMercator(),hue='% Abs/Ins',linewidth=.3, legend=True, \n",
    "                   legend_kwargs={'location': 'bottom','anchor' : (0.8, 2.2), 'shrink' : 0.25,'label':'Abstention', 'aspect':30},ax=ax\n",
    "                  )\n",
    "plt.pyplot.savefig('yolo3.png')"
   ]
  }
 ],
 "metadata": {
  "kernelspec": {
   "display_name": "Python 3 (ipykernel)",
   "language": "python",
   "name": "python3"
  },
  "language_info": {
   "codemirror_mode": {
    "name": "ipython",
    "version": 3
   },
   "file_extension": ".py",
   "mimetype": "text/x-python",
   "name": "python",
   "nbconvert_exporter": "python",
   "pygments_lexer": "ipython3",
   "version": "3.10.5"
  },
  "varInspector": {
   "cols": {
    "lenName": 16,
    "lenType": 16,
    "lenVar": 40
   },
   "kernels_config": {
    "python": {
     "delete_cmd_postfix": "",
     "delete_cmd_prefix": "del ",
     "library": "var_list.py",
     "varRefreshCmd": "print(var_dic_list())"
    },
    "r": {
     "delete_cmd_postfix": ") ",
     "delete_cmd_prefix": "rm(",
     "library": "var_list.r",
     "varRefreshCmd": "cat(var_dic_list()) "
    }
   },
   "types_to_exclude": [
    "module",
    "function",
    "builtin_function_or_method",
    "instance",
    "_Feature"
   ],
   "window_display": false
  }
 },
 "nbformat": 4,
 "nbformat_minor": 5
}
