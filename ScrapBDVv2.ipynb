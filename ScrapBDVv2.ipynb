{
 "cells": [
  {
   "cell_type": "code",
   "execution_count": null,
   "id": "373132d5",
   "metadata": {
    "ExecuteTime": {
     "end_time": "2022-06-14T22:03:57.832533Z",
     "start_time": "2022-06-14T22:03:57.576294Z"
    },
    "executionInfo": {
     "elapsed": 180,
     "status": "ok",
     "timestamp": 1654970643965,
     "user": {
      "displayName": "ABC ABC",
      "userId": "03665645955967891581"
     },
     "user_tz": -120
    },
    "id": "373132d5"
   },
   "outputs": [],
   "source": [
    "import PyPDF2\n",
    "import tabula as tb\n",
    "import pandas as pd\n",
    "import requests\n",
    "import ScrapingPrefect as scraping\n",
    "import re"
   ]
  },
  {
   "cell_type": "code",
   "execution_count": null,
   "id": "ddc1df4c",
   "metadata": {
    "ExecuteTime": {
     "end_time": "2022-06-11T18:08:28.965506Z",
     "start_time": "2022-06-11T18:08:28.960321Z"
    },
    "executionInfo": {
     "elapsed": 192,
     "status": "ok",
     "timestamp": 1654970649703,
     "user": {
      "displayName": "ABC ABC",
      "userId": "03665645955967891581"
     },
     "user_tz": -120
    },
    "id": "ddc1df4c"
   },
   "outputs": [],
   "source": [
    "def ScrapePDF(sourcepdf):\n",
    "    headers = {'User-Agent': 'Mozilla/5.0 (X11; Linux x86_64)'}\n",
    "    response = requests.request(\"GET\", sourcepdf,headers=headers)\n",
    "    file = open(\"myfile.pdf\", \"wb\")\n",
    "    file.write(response.content)\n",
    "    n = PyPDF2.PdfFileReader(open(\"myfile.pdf\",mode='rb')).getNumPages()\n",
    "    data = tb.read_pdf(\"myfile.pdf\",  pages = f'2-{n}', lattice=True)\n",
    "    file.close()\n",
    "    data2 = []\n",
    "    for i in data:\n",
    "        i2=i.drop(0)\n",
    "        data2.append(i2)\n",
    "    final = pd.concat(data2)\n",
    "    final = final.rename(columns={\n",
    "                    final.columns[0]:\"Quartier\",\n",
    "                    final.columns[1]:\"Num\",\n",
    "                    final.columns[2]:\"Désignation\",\n",
    "                    final.columns[3]:\"Adresse\",\n",
    "                    final.columns[4]:\"Zone\"\n",
    "    }\n",
    "                )\n",
    "    final=final.reset_index()\n",
    "    final=final.drop([\"index\"],axis=1)\n",
    "    regex = \"([0-9]{1,3}|#####)( [a-z]+|[a-z]+\\b(?<!au))?au([0-9]{1,3}| [0-9]{1,3}|#####)( [a-z]+|[a-z]+)?\"\n",
    "    final[\"Zone\"]=final[\"Zone\"].str.replace(\"\\r\", \" \")\n",
    "    final2 = final[\"Zone\"].str.extract(regex, expand=True)\n",
    "    final2 = final2.fillna(\"\")\n",
    "    final[\"Zone1\"],final[\"Zone2\"]=(\n",
    "    (final2[final2.columns[0]]+final2[final2.columns[1]]),\n",
    "    (final2[final2.columns[2]]+final2[final2.columns[3]])\n",
    "    )\n",
    "    final[\"ZoneAdresse\"]=final[\"Zone\"].str.replace(regex, \"\",regex=True)\n",
    "    final[\"ZoneAdresse\"]=final[\"ZoneAdresse\"].str.replace(\"\\r\", \" \")\n",
    "    final[\"Désignation\"]=final[\"Désignation\"].str.replace(\"\\r\", \" \")\n",
    "    final[\"Quartier\"]=final[\"Quartier\"].str.replace(\"\\r\", \" \")\n",
    "    final[\"Adresse\"]=final[\"Adresse\"].str.replace(\"\\r\", \" \")\n",
    "    basefinale = final.drop([\"Zone\"],axis=1)\n",
    "    return basefinale  "
   ]
  },
  {
   "cell_type": "code",
   "execution_count": null,
   "id": "0022d889",
   "metadata": {
    "ExecuteTime": {
     "end_time": "2022-06-11T18:09:03.663651Z",
     "start_time": "2022-06-11T18:08:31.897821Z"
    },
    "colab": {
     "base_uri": "https://localhost:8080/",
     "height": 343
    },
    "executionInfo": {
     "elapsed": 2457,
     "status": "error",
     "timestamp": 1654970655949,
     "user": {
      "displayName": "ABC ABC",
      "userId": "03665645955967891581"
     },
     "user_tz": -120
    },
    "id": "0022d889",
    "outputId": "b3c64078-f2e4-4991-8ff9-9a03b2feabce"
   },
   "outputs": [],
   "source": [
    "last=[]\n",
    "for i in scraping.listurl(\"https://www.prefectures-regions.gouv.fr/ile-de-france/Region-et-institutions\"\n",
    "                 \"/Demarches-administratives/Elections/Les-bureaux-de-vote-a\"\n",
    "                 \"-Paris-periode-du-1er-janvier-2022-au-31-decembre-2022\"):\n",
    "    last.append(ScrapePDF(\"https://www.prefectures-regions.gouv.fr\"+i))\n",
    "    print(i)"
   ]
  },
  {
   "cell_type": "code",
   "execution_count": null,
   "id": "f8f5114d",
   "metadata": {
    "ExecuteTime": {
     "end_time": "2022-06-11T19:08:02.871983Z",
     "start_time": "2022-06-11T19:08:02.850936Z"
    },
    "id": "f8f5114d"
   },
   "outputs": [],
   "source": [
    "ListeBDV = pd.concat(last)\n",
    "ListeBDV['ZoneAdresse'] = ListeBDV['ZoneAdresse'].str.strip()\n",
    "ListeBDV = ListeBDV.reset_index()\n",
    "ListeBDV.loc[(ListeBDV.Adresse == '15 RUE ANTOINE CHANTIN'),'Adresse']='15 RUE ANTOINE CHANTIN 75014 PARIS'\n",
    "ListeBDV[\"Arrondissement\"] = ListeBDV[\"Adresse\"].str.extract(\"750([0-9]{2})\", expand=True)\n",
    "#ListeBDV.to_csv(\"ListeBDVParisv4.csv\")"
   ]
  },
  {
   "cell_type": "code",
   "execution_count": null,
   "id": "7ba93ee9",
   "metadata": {
    "ExecuteTime": {
     "end_time": "2022-06-11T19:08:07.256405Z",
     "start_time": "2022-06-11T19:08:07.101297Z"
    },
    "executionInfo": {
     "elapsed": 491,
     "status": "ok",
     "timestamp": 1654966129011,
     "user": {
      "displayName": "ABC ABC",
      "userId": "03665645955967891581"
     },
     "user_tz": -120
    },
    "id": "7ba93ee9"
   },
   "outputs": [],
   "source": [
    "#ListeBDV = pd.read_csv(\"ListeBDVParisv4.csv\")\n",
    "ListeCirc = pd.read_excel(\"LEGISLATIVES - Tableau récapitulatif des bureaux de vote et des emplacement d'affichage électoral 2022.xlsx\", index_col=0, sheet_name='CIRC_1')\n",
    "ListeCirc[\"Circonscription\"]=1"
   ]
  },
  {
   "cell_type": "code",
   "execution_count": null,
   "id": "dd69549e",
   "metadata": {
    "ExecuteTime": {
     "end_time": "2022-06-11T19:08:10.639699Z",
     "start_time": "2022-06-11T19:08:09.538217Z"
    },
    "executionInfo": {
     "elapsed": 3023,
     "status": "ok",
     "timestamp": 1654966134696,
     "user": {
      "displayName": "ABC ABC",
      "userId": "03665645955967891581"
     },
     "user_tz": -120
    },
    "id": "dd69549e"
   },
   "outputs": [],
   "source": [
    "for i in range (2, 19):\n",
    "    ListeCircTemp=pd.read_excel(\"LEGISLATIVES - Tableau récapitulatif des bureaux de vote et des emplacement d'affichage électoral 2022.xlsx\", index_col=0, sheet_name=f'CIRC_{i}')\n",
    "    ListeCircTemp[\"Circonscription\"]=i\n",
    "    ListeCirc = pd.concat([ListeCirc,ListeCircTemp])"
   ]
  },
  {
   "cell_type": "code",
   "execution_count": null,
   "id": "1796e043",
   "metadata": {
    "ExecuteTime": {
     "end_time": "2022-06-11T19:08:11.525950Z",
     "start_time": "2022-06-11T19:08:11.506270Z"
    },
    "id": "1796e043"
   },
   "outputs": [],
   "source": [
    "ListeCirc.loc[((ListeCirc[\"Circonscription\"] == 7) & (ListeCirc[\"Adresse du (ou des) bureau(x) de vote concerné(s)\"]== \"ECOLE ELEMENTAIRE\\n165 RUE DE BERCY 75012 PARIS\")),'ARDT']=12.0 #correction Erreur\n",
    "ListeCirc.loc[((ListeCirc[\"Circonscription\"] == 7) & (ListeCirc[\"Adresse du (ou des) bureau(x) de vote concerné(s)\"]== \"MAIRIE D'ARRONDISSEMENT\\n12 PLACE LEON BLUM 75011 PARIS\")),'ARDT']=11.0 #correction Erreur\n",
    "ListeCirc[ListeCirc.index!=ListeCirc[\"Circonscription\"]]#contrôle"
   ]
  },
  {
   "cell_type": "code",
   "execution_count": null,
   "id": "ab832273",
   "metadata": {
    "ExecuteTime": {
     "end_time": "2022-06-11T19:08:17.351521Z",
     "start_time": "2022-06-11T19:08:17.345444Z"
    },
    "id": "ab832273",
    "scrolled": false
   },
   "outputs": [],
   "source": [
    "ListeCirc2 = ListeCirc.reset_index()\n",
    "ListeCirc2 = ListeCirc2.drop([\"Circ.\"], axis=1)\n",
    "ListeCirc3 = ListeCirc2[ListeCirc2[\"ARDT\"].notnull() & ListeCirc2[\"Bureau(x) de vote concerné(s)\"].notnull()]\n",
    "ListeCirc3[ListeCirc3[\"ARDT\"].isna()]#contrôle"
   ]
  },
  {
   "cell_type": "code",
   "execution_count": null,
   "id": "1a347620",
   "metadata": {
    "ExecuteTime": {
     "end_time": "2022-06-11T19:08:20.599027Z",
     "start_time": "2022-06-11T19:08:20.563063Z"
    },
    "executionInfo": {
     "elapsed": 492,
     "status": "ok",
     "timestamp": 1654966155715,
     "user": {
      "displayName": "ABC ABC",
      "userId": "03665645955967891581"
     },
     "user_tz": -120
    },
    "id": "1a347620"
   },
   "outputs": [],
   "source": [
    "ListBdvCirc = [0]\n",
    "for i in range(1,19):\n",
    "    ListeCirc3t = ListeCirc3[ListeCirc3[\"Circonscription\"]==i][[\"ARDT\",\"Bureau(x) de vote concerné(s)\"]]\n",
    "    DictBdvTemp = {}\n",
    "    for j in ListeCirc3t[\"ARDT\"].unique():\n",
    "        BdvTemp = [re.findall('([0-9]+)',x) for x in ListeCirc3t[ListeCirc3t[\"ARDT\"]==j][\"Bureau(x) de vote concerné(s)\"]]\n",
    "        BdvTemp2 = [x for xs in BdvTemp for x in xs]\n",
    "        DictBdvTemp[int(j)] = BdvTemp2\n",
    "    ListBdvCirc.append(DictBdvTemp) #Liste de circonscriptions contenant des dictionnaires d'arrondissements contenant la liste des BDV (en désordre)"
   ]
  },
  {
   "cell_type": "code",
   "execution_count": null,
   "id": "FXKr4KR5tUNd",
   "metadata": {
    "ExecuteTime": {
     "end_time": "2022-06-11T19:08:54.641331Z",
     "start_time": "2022-06-11T19:08:54.518048Z"
    },
    "colab": {
     "base_uri": "https://localhost:8080/",
     "height": 350
    },
    "executionInfo": {
     "elapsed": 506,
     "status": "error",
     "timestamp": 1654969980292,
     "user": {
      "displayName": "ABC ABC",
      "userId": "03665645955967891581"
     },
     "user_tz": -120
    },
    "id": "FXKr4KR5tUNd",
    "outputId": "ae8dca43-648d-41ce-c926-50e414e0a44d"
   },
   "outputs": [],
   "source": [
    "def ArrBdvToCirc(Arr,Bdv):\n",
    "    for i in range(1,19):\n",
    "        if int(Arr) in ListBdvCirc[i].keys():\n",
    "            if Bdv in ListBdvCirc[i][int(Arr)]:\n",
    "                return i\n",
    "    return \"Erreur\"\n",
    "\n",
    "ListeBDV[\"Circonscription\"]=ListeBDV.apply(lambda x: ArrBdvToCirc(x['Arrondissement'], x['Num']), axis=1)"
   ]
  },
  {
   "cell_type": "code",
   "execution_count": null,
   "id": "PMCx1JTEyHbz",
   "metadata": {
    "ExecuteTime": {
     "end_time": "2022-06-11T19:09:14.921258Z",
     "start_time": "2022-06-11T19:09:14.878538Z"
    },
    "executionInfo": {
     "elapsed": 177,
     "status": "ok",
     "timestamp": 1654968632093,
     "user": {
      "displayName": "ABC ABC",
      "userId": "03665645955967891581"
     },
     "user_tz": -120
    },
    "id": "PMCx1JTEyHbz"
   },
   "outputs": [],
   "source": [
    "ListeBDV = ListeBDV.reset_index()\n",
    "ListeBDV = ListeBDV.drop([\"index\",\"level_0\"],axis=1)\n",
    "ListeBDV.to_csv(\"ListeBDVParisv5.csv\")"
   ]
  }
 ],
 "metadata": {
  "colab": {
   "name": "ScrapBDVv2.ipynb",
   "provenance": []
  },
  "kernelspec": {
   "display_name": "Python 3 (ipykernel)",
   "language": "python",
   "name": "python3"
  },
  "language_info": {
   "codemirror_mode": {
    "name": "ipython",
    "version": 3
   },
   "file_extension": ".py",
   "mimetype": "text/x-python",
   "name": "python",
   "nbconvert_exporter": "python",
   "pygments_lexer": "ipython3",
   "version": "3.10.5"
  },
  "varInspector": {
   "cols": {
    "lenName": 16,
    "lenType": 16,
    "lenVar": 40
   },
   "kernels_config": {
    "python": {
     "delete_cmd_postfix": "",
     "delete_cmd_prefix": "del ",
     "library": "var_list.py",
     "varRefreshCmd": "print(var_dic_list())"
    },
    "r": {
     "delete_cmd_postfix": ") ",
     "delete_cmd_prefix": "rm(",
     "library": "var_list.r",
     "varRefreshCmd": "cat(var_dic_list()) "
    }
   },
   "position": {
    "height": "341.85px",
    "left": "1573px",
    "right": "20px",
    "top": "120px",
    "width": "327px"
   },
   "types_to_exclude": [
    "module",
    "function",
    "builtin_function_or_method",
    "instance",
    "_Feature"
   ],
   "window_display": false
  }
 },
 "nbformat": 4,
 "nbformat_minor": 5
}
