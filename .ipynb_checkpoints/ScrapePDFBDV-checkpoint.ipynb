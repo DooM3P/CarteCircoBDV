{
 "cells": [
  {
   "cell_type": "code",
   "execution_count": 314,
   "id": "011fc048",
   "metadata": {
    "ExecuteTime": {
     "end_time": "2022-05-31T00:08:52.188758Z",
     "start_time": "2022-05-31T00:08:52.177121Z"
    }
   },
   "outputs": [],
   "source": [
    "import PyPDF2\n",
    "import tabula as tb\n",
    "import pandas as pd\n",
    "import re"
   ]
  },
  {
   "cell_type": "code",
   "execution_count": 315,
   "id": "f478ab68",
   "metadata": {
    "ExecuteTime": {
     "end_time": "2022-05-31T00:08:53.842921Z",
     "start_time": "2022-05-31T00:08:53.836800Z"
    }
   },
   "outputs": [],
   "source": [
    "file = 'Sectionnement 2022-Arrond 16 - AnnexeV3.pdf'"
   ]
  },
  {
   "cell_type": "code",
   "execution_count": 316,
   "id": "e2c43358",
   "metadata": {
    "ExecuteTime": {
     "end_time": "2022-05-31T00:08:56.131457Z",
     "start_time": "2022-05-31T00:08:56.047673Z"
    }
   },
   "outputs": [],
   "source": [
    "n = PyPDF2.PdfFileReader(open(file,mode='rb')).getNumPages()"
   ]
  },
  {
   "cell_type": "code",
   "execution_count": 317,
   "id": "26e3576d",
   "metadata": {
    "ExecuteTime": {
     "end_time": "2022-05-31T00:09:02.915241Z",
     "start_time": "2022-05-31T00:08:57.986641Z"
    },
    "collapsed": true
   },
   "outputs": [
    {
     "name": "stderr",
     "output_type": "stream",
     "text": [
      "Got stderr: May 31, 2022 2:08:59 AM org.apache.pdfbox.pdmodel.font.FileSystemFontProvider loadDiskCache\n",
      "WARNING: New fonts found, font cache will be re-built\n",
      "May 31, 2022 2:08:59 AM org.apache.pdfbox.pdmodel.font.FileSystemFontProvider <init>\n",
      "WARNING: Building on-disk font cache, this may take a while\n",
      "May 31, 2022 2:08:59 AM org.apache.pdfbox.pdmodel.font.FileSystemFontProvider addTrueTypeCollection\n",
      "WARNING: Could not load font file: /usr/share/fonts/noto/NotoSansCJK-Regular.ttc\n",
      "java.io.IOException: Missing TTC header\n",
      "\tat org.apache.fontbox.ttf.TrueTypeCollection.<init>(TrueTypeCollection.java:73)\n",
      "\tat org.apache.fontbox.ttf.TrueTypeCollection.<init>(TrueTypeCollection.java:45)\n",
      "\tat org.apache.pdfbox.pdmodel.font.FileSystemFontProvider.addTrueTypeCollection(FileSystemFontProvider.java:618)\n",
      "\tat org.apache.pdfbox.pdmodel.font.FileSystemFontProvider.scanFonts(FileSystemFontProvider.java:383)\n",
      "\tat org.apache.pdfbox.pdmodel.font.FileSystemFontProvider.<init>(FileSystemFontProvider.java:358)\n",
      "\tat org.apache.pdfbox.pdmodel.font.FontMapperImpl$DefaultFontProvider.<clinit>(FontMapperImpl.java:140)\n",
      "\tat org.apache.pdfbox.pdmodel.font.FontMapperImpl.getProvider(FontMapperImpl.java:159)\n",
      "\tat org.apache.pdfbox.pdmodel.font.FontMapperImpl.findFont(FontMapperImpl.java:423)\n",
      "\tat org.apache.pdfbox.pdmodel.font.FontMapperImpl.getTrueTypeFont(FontMapperImpl.java:331)\n",
      "\tat org.apache.pdfbox.pdmodel.font.PDTrueTypeFont.<init>(PDTrueTypeFont.java:215)\n",
      "\tat org.apache.pdfbox.pdmodel.font.PDFontFactory.createFont(PDFontFactory.java:89)\n",
      "\tat org.apache.pdfbox.pdmodel.PDResources.getFont(PDResources.java:146)\n",
      "\tat org.apache.pdfbox.contentstream.operator.text.SetFontAndSize.process(SetFontAndSize.java:66)\n",
      "\tat org.apache.pdfbox.contentstream.PDFStreamEngine.processOperator(PDFStreamEngine.java:933)\n",
      "\tat org.apache.pdfbox.contentstream.PDFStreamEngine.processStreamOperators(PDFStreamEngine.java:514)\n",
      "\tat org.apache.pdfbox.contentstream.PDFStreamEngine.processStream(PDFStreamEngine.java:492)\n",
      "\tat org.apache.pdfbox.contentstream.PDFStreamEngine.processPage(PDFStreamEngine.java:155)\n",
      "\tat technology.tabula.ObjectExtractor.extractPage(ObjectExtractor.java:24)\n",
      "\tat technology.tabula.PageIterator.next(PageIterator.java:30)\n",
      "\tat technology.tabula.CommandLineApp.extractFile(CommandLineApp.java:161)\n",
      "\tat technology.tabula.CommandLineApp.extractFileTables(CommandLineApp.java:124)\n",
      "\tat technology.tabula.CommandLineApp.extractTables(CommandLineApp.java:106)\n",
      "\tat technology.tabula.CommandLineApp.main(CommandLineApp.java:76)\n",
      "\n",
      "May 31, 2022 2:08:59 AM org.apache.pdfbox.pdmodel.font.FileSystemFontProvider addTrueTypeCollection\n",
      "WARNING: Could not load font file: /usr/share/fonts/noto/NotoSerifCJK-Regular.ttc\n",
      "java.io.IOException: Missing TTC header\n",
      "\tat org.apache.fontbox.ttf.TrueTypeCollection.<init>(TrueTypeCollection.java:73)\n",
      "\tat org.apache.fontbox.ttf.TrueTypeCollection.<init>(TrueTypeCollection.java:45)\n",
      "\tat org.apache.pdfbox.pdmodel.font.FileSystemFontProvider.addTrueTypeCollection(FileSystemFontProvider.java:618)\n",
      "\tat org.apache.pdfbox.pdmodel.font.FileSystemFontProvider.scanFonts(FileSystemFontProvider.java:383)\n",
      "\tat org.apache.pdfbox.pdmodel.font.FileSystemFontProvider.<init>(FileSystemFontProvider.java:358)\n",
      "\tat org.apache.pdfbox.pdmodel.font.FontMapperImpl$DefaultFontProvider.<clinit>(FontMapperImpl.java:140)\n",
      "\tat org.apache.pdfbox.pdmodel.font.FontMapperImpl.getProvider(FontMapperImpl.java:159)\n",
      "\tat org.apache.pdfbox.pdmodel.font.FontMapperImpl.findFont(FontMapperImpl.java:423)\n",
      "\tat org.apache.pdfbox.pdmodel.font.FontMapperImpl.getTrueTypeFont(FontMapperImpl.java:331)\n",
      "\tat org.apache.pdfbox.pdmodel.font.PDTrueTypeFont.<init>(PDTrueTypeFont.java:215)\n",
      "\tat org.apache.pdfbox.pdmodel.font.PDFontFactory.createFont(PDFontFactory.java:89)\n",
      "\tat org.apache.pdfbox.pdmodel.PDResources.getFont(PDResources.java:146)\n",
      "\tat org.apache.pdfbox.contentstream.operator.text.SetFontAndSize.process(SetFontAndSize.java:66)\n",
      "\tat org.apache.pdfbox.contentstream.PDFStreamEngine.processOperator(PDFStreamEngine.java:933)\n",
      "\tat org.apache.pdfbox.contentstream.PDFStreamEngine.processStreamOperators(PDFStreamEngine.java:514)\n",
      "\tat org.apache.pdfbox.contentstream.PDFStreamEngine.processStream(PDFStreamEngine.java:492)\n",
      "\tat org.apache.pdfbox.contentstream.PDFStreamEngine.processPage(PDFStreamEngine.java:155)\n",
      "\tat technology.tabula.ObjectExtractor.extractPage(ObjectExtractor.java:24)\n",
      "\tat technology.tabula.PageIterator.next(PageIterator.java:30)\n",
      "\tat technology.tabula.CommandLineApp.extractFile(CommandLineApp.java:161)\n",
      "\tat technology.tabula.CommandLineApp.extractFileTables(CommandLineApp.java:124)\n",
      "\tat technology.tabula.CommandLineApp.extractTables(CommandLineApp.java:106)\n",
      "\tat technology.tabula.CommandLineApp.main(CommandLineApp.java:76)\n",
      "\n",
      "May 31, 2022 2:08:59 AM org.apache.pdfbox.pdmodel.font.FileSystemFontProvider <init>\n",
      "WARNING: Finished building on-disk font cache, found 750 fonts\n",
      "\n"
     ]
    }
   ],
   "source": [
    "#data = tb.read_pdf(file, area = (300, 0, 600, 800), pages = '2-3')\n",
    "data = tb.read_pdf(file,  pages = f'2-{n}', lattice=True)"
   ]
  },
  {
   "cell_type": "code",
   "execution_count": 319,
   "id": "ff307fbd",
   "metadata": {
    "ExecuteTime": {
     "end_time": "2022-05-31T00:09:13.653428Z",
     "start_time": "2022-05-31T00:09:13.640842Z"
    },
    "scrolled": true
   },
   "outputs": [
    {
     "data": {
      "text/plain": [
       "60"
      ]
     },
     "execution_count": 319,
     "metadata": {},
     "output_type": "execute_result"
    }
   ],
   "source": [
    "len(data)"
   ]
  },
  {
   "cell_type": "code",
   "execution_count": 356,
   "id": "a5130359",
   "metadata": {
    "ExecuteTime": {
     "end_time": "2022-05-31T00:20:46.849569Z",
     "start_time": "2022-05-31T00:20:46.759292Z"
    }
   },
   "outputs": [],
   "source": [
    "data2 = []\n",
    "for i in data:\n",
    "    i2=i.drop(0)\n",
    "    data2.append(i2)\n",
    "    \n",
    "final = pd.concat(data2)"
   ]
  },
  {
   "cell_type": "code",
   "execution_count": 357,
   "id": "0390c09e",
   "metadata": {
    "ExecuteTime": {
     "end_time": "2022-05-31T00:20:50.605132Z",
     "start_time": "2022-05-31T00:20:50.587014Z"
    }
   },
   "outputs": [],
   "source": [
    "final = final.rename(columns={\n",
    "                    final.columns[0]:\"Quartier\",\n",
    "                    final.columns[1]:\"Num\",\n",
    "                    final.columns[2]:\"Désignation\",\n",
    "                    final.columns[3]:\"Adresse\",\n",
    "                    final.columns[4]:\"Zone\"\n",
    "}\n",
    "            )\n",
    "final=final.reset_index()\n",
    "final=final.drop([\"index\"],axis=1)"
   ]
  },
  {
   "cell_type": "code",
   "execution_count": 358,
   "id": "f68276a6",
   "metadata": {
    "ExecuteTime": {
     "end_time": "2022-05-31T00:20:52.337709Z",
     "start_time": "2022-05-31T00:20:52.318019Z"
    }
   },
   "outputs": [],
   "source": [
    "final2 = final[\"Zone\"].str.extract(\"([0-9]{1,3})( bis)?au([0-9]{1,3})( bis)?\", expand=True)\n",
    "final2 = final2.fillna(\"\")\n",
    "final[\"Zone1\"],final[\"Zone2\"]=(\n",
    "    (final2[final2.columns[0]]+final2[final2.columns[1]]),\n",
    "    (final2[final2.columns[2]]+final2[final2.columns[3]])\n",
    ")"
   ]
  },
  {
   "cell_type": "code",
   "execution_count": 359,
   "id": "df29c324",
   "metadata": {
    "ExecuteTime": {
     "end_time": "2022-05-31T00:20:53.808318Z",
     "start_time": "2022-05-31T00:20:53.768975Z"
    }
   },
   "outputs": [],
   "source": [
    "final[\"ZoneAdresse\"]=final[\"Zone\"].str.replace(\"([0-9]{1,3})( bis)?au([0-9]{1,3})( bis)?\", \"\",regex=True)\n",
    "final[\"ZoneAdresse\"]=final[\"ZoneAdresse\"].str.replace(\"\\r\", \" \")\n",
    "final[\"Désignation\"]=final[\"Désignation\"].str.replace(\"\\r\", \" \")\n",
    "final[\"Adresse\"]=final[\"Adresse\"].str.replace(\"\\r\", \" \")\n",
    "final1 = final.drop([\"Zone\"],axis=1)"
   ]
  },
  {
   "cell_type": "code",
   "execution_count": 360,
   "id": "ee7aa1b4",
   "metadata": {
    "ExecuteTime": {
     "end_time": "2022-05-31T00:20:55.583143Z",
     "start_time": "2022-05-31T00:20:55.550245Z"
    }
   },
   "outputs": [
    {
     "data": {
      "text/html": [
       "<div>\n",
       "<style scoped>\n",
       "    .dataframe tbody tr th:only-of-type {\n",
       "        vertical-align: middle;\n",
       "    }\n",
       "\n",
       "    .dataframe tbody tr th {\n",
       "        vertical-align: top;\n",
       "    }\n",
       "\n",
       "    .dataframe thead th {\n",
       "        text-align: right;\n",
       "    }\n",
       "</style>\n",
       "<table border=\"1\" class=\"dataframe\">\n",
       "  <thead>\n",
       "    <tr style=\"text-align: right;\">\n",
       "      <th></th>\n",
       "      <th>Quartier</th>\n",
       "      <th>Num</th>\n",
       "      <th>Désignation</th>\n",
       "      <th>Adresse</th>\n",
       "      <th>Zone1</th>\n",
       "      <th>Zone2</th>\n",
       "      <th>ZoneAdresse</th>\n",
       "    </tr>\n",
       "  </thead>\n",
       "  <tbody>\n",
       "    <tr>\n",
       "      <th>0</th>\n",
       "      <td>MUETTE</td>\n",
       "      <td>1</td>\n",
       "      <td>MAIRIE D'ARRONDISSEMENT</td>\n",
       "      <td>71 AVENUE HENRI MARTIN, 75016 PARIS</td>\n",
       "      <td>71</td>\n",
       "      <td>97</td>\n",
       "      <td>AVENUE HENRI MARTIN</td>\n",
       "    </tr>\n",
       "    <tr>\n",
       "      <th>1</th>\n",
       "      <td>MUETTE</td>\n",
       "      <td>1</td>\n",
       "      <td>MAIRIE D'ARRONDISSEMENT</td>\n",
       "      <td>71 AVENUE HENRI MARTIN, 75016 PARIS</td>\n",
       "      <td>1</td>\n",
       "      <td>5</td>\n",
       "      <td>AVENUE RODIN</td>\n",
       "    </tr>\n",
       "    <tr>\n",
       "      <th>2</th>\n",
       "      <td>MUETTE</td>\n",
       "      <td>1</td>\n",
       "      <td>MAIRIE D'ARRONDISSEMENT</td>\n",
       "      <td>71 AVENUE HENRI MARTIN, 75016 PARIS</td>\n",
       "      <td>2</td>\n",
       "      <td>4</td>\n",
       "      <td>AVENUE RODIN</td>\n",
       "    </tr>\n",
       "    <tr>\n",
       "      <th>3</th>\n",
       "      <td>MUETTE</td>\n",
       "      <td>1</td>\n",
       "      <td>MAIRIE D'ARRONDISSEMENT</td>\n",
       "      <td>71 AVENUE HENRI MARTIN, 75016 PARIS</td>\n",
       "      <td>48</td>\n",
       "      <td>60</td>\n",
       "      <td>BOULEVARD EMILE AUGIER</td>\n",
       "    </tr>\n",
       "    <tr>\n",
       "      <th>4</th>\n",
       "      <td>MUETTE</td>\n",
       "      <td>1</td>\n",
       "      <td>MAIRIE D'ARRONDISSEMENT</td>\n",
       "      <td>71 AVENUE HENRI MARTIN, 75016 PARIS</td>\n",
       "      <td>63</td>\n",
       "      <td>71</td>\n",
       "      <td>RUE DE LA POMPE</td>\n",
       "    </tr>\n",
       "    <tr>\n",
       "      <th>...</th>\n",
       "      <td>...</td>\n",
       "      <td>...</td>\n",
       "      <td>...</td>\n",
       "      <td>...</td>\n",
       "      <td>...</td>\n",
       "      <td>...</td>\n",
       "      <td>...</td>\n",
       "    </tr>\n",
       "    <tr>\n",
       "      <th>1212</th>\n",
       "      <td>CHAILLOT</td>\n",
       "      <td>68</td>\n",
       "      <td>ECOLE ELEMENTAIRE</td>\n",
       "      <td>21 RUE AMIRAL HAMELIN, 75016 PARIS</td>\n",
       "      <td>26</td>\n",
       "      <td>48</td>\n",
       "      <td>RUE PAUL VALERY</td>\n",
       "    </tr>\n",
       "    <tr>\n",
       "      <th>1213</th>\n",
       "      <td>CHAILLOT</td>\n",
       "      <td>68</td>\n",
       "      <td>ECOLE ELEMENTAIRE</td>\n",
       "      <td>21 RUE AMIRAL HAMELIN, 75016 PARIS</td>\n",
       "      <td>1</td>\n",
       "      <td>7</td>\n",
       "      <td>RUE RUDE</td>\n",
       "    </tr>\n",
       "    <tr>\n",
       "      <th>1214</th>\n",
       "      <td>CHAILLOT</td>\n",
       "      <td>68</td>\n",
       "      <td>ECOLE ELEMENTAIRE</td>\n",
       "      <td>21 RUE AMIRAL HAMELIN, 75016 PARIS</td>\n",
       "      <td>2</td>\n",
       "      <td>6</td>\n",
       "      <td>RUE RUDE</td>\n",
       "    </tr>\n",
       "    <tr>\n",
       "      <th>1215</th>\n",
       "      <td>CHAILLOT</td>\n",
       "      <td>68</td>\n",
       "      <td>ECOLE ELEMENTAIRE</td>\n",
       "      <td>21 RUE AMIRAL HAMELIN, 75016 PARIS</td>\n",
       "      <td>1</td>\n",
       "      <td>11</td>\n",
       "      <td>VILLA D EYLAU</td>\n",
       "    </tr>\n",
       "    <tr>\n",
       "      <th>1216</th>\n",
       "      <td>CHAILLOT</td>\n",
       "      <td>68</td>\n",
       "      <td>ECOLE ELEMENTAIRE</td>\n",
       "      <td>21 RUE AMIRAL HAMELIN, 75016 PARIS</td>\n",
       "      <td>2</td>\n",
       "      <td>14</td>\n",
       "      <td>VILLA D EYLAU</td>\n",
       "    </tr>\n",
       "  </tbody>\n",
       "</table>\n",
       "<p>1217 rows × 7 columns</p>\n",
       "</div>"
      ],
      "text/plain": [
       "      Quartier Num              Désignation  \\\n",
       "0       MUETTE   1  MAIRIE D'ARRONDISSEMENT   \n",
       "1       MUETTE   1  MAIRIE D'ARRONDISSEMENT   \n",
       "2       MUETTE   1  MAIRIE D'ARRONDISSEMENT   \n",
       "3       MUETTE   1  MAIRIE D'ARRONDISSEMENT   \n",
       "4       MUETTE   1  MAIRIE D'ARRONDISSEMENT   \n",
       "...        ...  ..                      ...   \n",
       "1212  CHAILLOT  68        ECOLE ELEMENTAIRE   \n",
       "1213  CHAILLOT  68        ECOLE ELEMENTAIRE   \n",
       "1214  CHAILLOT  68        ECOLE ELEMENTAIRE   \n",
       "1215  CHAILLOT  68        ECOLE ELEMENTAIRE   \n",
       "1216  CHAILLOT  68        ECOLE ELEMENTAIRE   \n",
       "\n",
       "                                  Adresse Zone1 Zone2             ZoneAdresse  \n",
       "0     71 AVENUE HENRI MARTIN, 75016 PARIS    71    97     AVENUE HENRI MARTIN  \n",
       "1     71 AVENUE HENRI MARTIN, 75016 PARIS     1     5            AVENUE RODIN  \n",
       "2     71 AVENUE HENRI MARTIN, 75016 PARIS     2     4            AVENUE RODIN  \n",
       "3     71 AVENUE HENRI MARTIN, 75016 PARIS    48    60  BOULEVARD EMILE AUGIER  \n",
       "4     71 AVENUE HENRI MARTIN, 75016 PARIS    63    71         RUE DE LA POMPE  \n",
       "...                                   ...   ...   ...                     ...  \n",
       "1212   21 RUE AMIRAL HAMELIN, 75016 PARIS    26    48         RUE PAUL VALERY  \n",
       "1213   21 RUE AMIRAL HAMELIN, 75016 PARIS     1     7                RUE RUDE  \n",
       "1214   21 RUE AMIRAL HAMELIN, 75016 PARIS     2     6                RUE RUDE  \n",
       "1215   21 RUE AMIRAL HAMELIN, 75016 PARIS     1    11           VILLA D EYLAU  \n",
       "1216   21 RUE AMIRAL HAMELIN, 75016 PARIS     2    14           VILLA D EYLAU  \n",
       "\n",
       "[1217 rows x 7 columns]"
      ]
     },
     "execution_count": 360,
     "metadata": {},
     "output_type": "execute_result"
    }
   ],
   "source": [
    "final1"
   ]
  },
  {
   "cell_type": "code",
   "execution_count": 361,
   "id": "88f58bfe",
   "metadata": {
    "ExecuteTime": {
     "end_time": "2022-05-31T00:20:59.486933Z",
     "start_time": "2022-05-31T00:20:59.446040Z"
    }
   },
   "outputs": [],
   "source": [
    "final1.to_csv(\"test2.csv\")"
   ]
  }
 ],
 "metadata": {
  "kernelspec": {
   "display_name": "Python 3 (ipykernel)",
   "language": "python",
   "name": "python3"
  },
  "language_info": {
   "codemirror_mode": {
    "name": "ipython",
    "version": 3
   },
   "file_extension": ".py",
   "mimetype": "text/x-python",
   "name": "python",
   "nbconvert_exporter": "python",
   "pygments_lexer": "ipython3",
   "version": "3.9.12"
  },
  "varInspector": {
   "cols": {
    "lenName": 16,
    "lenType": 16,
    "lenVar": 40
   },
   "kernels_config": {
    "python": {
     "delete_cmd_postfix": "",
     "delete_cmd_prefix": "del ",
     "library": "var_list.py",
     "varRefreshCmd": "print(var_dic_list())"
    },
    "r": {
     "delete_cmd_postfix": ") ",
     "delete_cmd_prefix": "rm(",
     "library": "var_list.r",
     "varRefreshCmd": "cat(var_dic_list()) "
    }
   },
   "position": {
    "height": "250.85px",
    "left": "1537px",
    "right": "20px",
    "top": "120px",
    "width": "363px"
   },
   "types_to_exclude": [
    "module",
    "function",
    "builtin_function_or_method",
    "instance",
    "_Feature"
   ],
   "window_display": false
  }
 },
 "nbformat": 4,
 "nbformat_minor": 5
}
